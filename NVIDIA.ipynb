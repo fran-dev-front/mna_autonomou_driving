{
  "cells": [
    {
      "cell_type": "code",
      "execution_count": 1,
      "metadata": {
        "id": "9Uk9JudY55O4"
      },
      "outputs": [
        {
          "name": "stderr",
          "output_type": "stream",
          "text": [
            "2024-06-23 23:16:49.623568: W tensorflow/compiler/tf2tensorrt/utils/py_utils.cc:38] TF-TRT Warning: Could not find TensorRT\n",
            "/tmp/ipykernel_374626/2743595106.py:25: FutureWarning: Series.__getitem__ treating keys as positions is deprecated. In a future version, integer keys will always be treated as labels (consistent with DataFrame behavior). To access a value by position, use `ser.iloc[pos]`\n",
            "  img_path = os.path.join(image_dir, row[0])\n",
            "/tmp/ipykernel_374626/2743595106.py:30: FutureWarning: Series.__getitem__ treating keys as positions is deprecated. In a future version, integer keys will always be treated as labels (consistent with DataFrame behavior). To access a value by position, use `ser.iloc[pos]`\n",
            "  angles.append(row[1])\n",
            "[ WARN:0@53.598] global loadsave.cpp:241 findDecoder imread_('/home/mitnik/Documents/MNA/autonomous_driving/proyecto_final/image_bank/2024-06-23 03-50-29.png'): can't open/read file: check file path/integrity\n"
          ]
        },
        {
          "ename": "error",
          "evalue": "OpenCV(4.10.0) /io/opencv/modules/imgproc/src/color.cpp:196: error: (-215:Assertion failed) !_src.empty() in function 'cvtColor'\n",
          "output_type": "error",
          "traceback": [
            "\u001b[0;31m---------------------------------------------------------------------------\u001b[0m",
            "\u001b[0;31merror\u001b[0m                                     Traceback (most recent call last)",
            "Cell \u001b[0;32mIn[1], line 27\u001b[0m\n\u001b[1;32m     25\u001b[0m img_path \u001b[38;5;241m=\u001b[39m os\u001b[38;5;241m.\u001b[39mpath\u001b[38;5;241m.\u001b[39mjoin(image_dir, row[\u001b[38;5;241m0\u001b[39m])\n\u001b[1;32m     26\u001b[0m img \u001b[38;5;241m=\u001b[39m cv2\u001b[38;5;241m.\u001b[39mimread(img_path)\n\u001b[0;32m---> 27\u001b[0m img \u001b[38;5;241m=\u001b[39m \u001b[43mcv2\u001b[49m\u001b[38;5;241;43m.\u001b[39;49m\u001b[43mcvtColor\u001b[49m\u001b[43m(\u001b[49m\u001b[43mimg\u001b[49m\u001b[43m,\u001b[49m\u001b[43m \u001b[49m\u001b[43mcv2\u001b[49m\u001b[38;5;241;43m.\u001b[39;49m\u001b[43mCOLOR_BGR2RGB\u001b[49m\u001b[43m)\u001b[49m\n\u001b[1;32m     28\u001b[0m img \u001b[38;5;241m=\u001b[39m cv2\u001b[38;5;241m.\u001b[39mresize(img, (\u001b[38;5;241m128\u001b[39m, \u001b[38;5;241m64\u001b[39m))  \u001b[38;5;66;03m# Asegúrate de que todas las imágenes tengan el mismo tamaño\u001b[39;00m\n\u001b[1;32m     29\u001b[0m images\u001b[38;5;241m.\u001b[39mappend(img)\n",
            "\u001b[0;31merror\u001b[0m: OpenCV(4.10.0) /io/opencv/modules/imgproc/src/color.cpp:196: error: (-215:Assertion failed) !_src.empty() in function 'cvtColor'\n"
          ]
        }
      ],
      "source": [
        "import pandas as pd\n",
        "import numpy as np\n",
        "import cv2\n",
        "import os\n",
        "from sklearn.model_selection import train_test_split\n",
        "from tensorflow.keras.preprocessing.image import ImageDataGenerator\n",
        "import tensorflow as tf\n",
        "from tensorflow.keras.models import Sequential\n",
        "from tensorflow.keras.layers import Conv2D, MaxPooling2D, Flatten, Dense, Dropout, Lambda, Cropping2D\n",
        "from tensorflow.keras.optimizers import Adam\n",
        "\n",
        "# Cargar el archivo CSV sin encabezados\n",
        "data_path = '/home/mitnik/Documents/MNA/autonomous_driving/proyecto_final/angle.csv'  # Cambia esto por la ruta correcta de tu archivo CSV\n",
        "image_dir = '/home/mitnik/Documents/MNA/autonomous_driving/proyecto_final/image_bank'  # Cambia esto por la ruta correcta de tu directorio de imágenes\n",
        "df = pd.read_csv(data_path, header=None)\n",
        "\n",
        "# Asignar nombres de columnas manualmente\n",
        "df.columns = ['image', 'steering_angle']\n",
        "\n",
        "# Preprocesar las imágenes y los ángulos\n",
        "images = []\n",
        "angles = []\n",
        "\n",
        "for index, row in df.iterrows():\n",
        "    img_path = os.path.join(image_dir, row[0])\n",
        "    print(img_path)\n",
        "    img = cv2.imread(img_path)\n",
        "    img = cv2.cvtColor(img, cv2.COLOR_BGR2RGB)\n",
        "    img = cv2.resize(img, (128, 64))  # Asegúrate de que todas las imágenes tengan el mismo tamaño\n",
        "    images.append(img)\n",
        "    angles.append(row[1])\n",
        "\n",
        "images = np.array(images)\n",
        "angles = np.array(angles)\n",
        "\n",
        "# Dividir los datos en conjuntos de entrenamiento y prueba\n",
        "X_train, X_test, y_train, y_test = train_test_split(images, angles, test_size=0.2, random_state=42)\n",
        "\n",
        "# Definir el modelo basado en la arquitectura NVIDIA\n",
        "def create_model():\n",
        "    model = Sequential([\n",
        "        Lambda(lambda x: x / 255.0 - 0.5, input_shape=(64, 128, 3)),  # Normalización y tamaño de imagen ajustado\n",
        "        Conv2D(24, (5, 5), activation='relu', strides=(2, 2)),\n",
        "        Conv2D(36, (5, 5), activation='relu', strides=(2, 2)),\n",
        "        Conv2D(48, (5, 5), activation='relu', strides=(2, 2)),\n",
        "        Conv2D(64, (3, 3), activation='relu'),\n",
        "        Conv2D(64, (3, 3), activation='relu'),\n",
        "        Flatten(),\n",
        "        Dense(100, activation='relu'),\n",
        "        Dropout(0.5),\n",
        "        Dense(50, activation='relu'),\n",
        "        Dropout(0.5),\n",
        "        Dense(10, activation='relu'),\n",
        "        Dense(1)\n",
        "    ])\n",
        "    model.compile(optimizer=Adam(learning_rate=1e-4), loss='mse')\n",
        "    return model\n",
        "\n",
        "model = create_model()\n",
        "\n",
        "# Configurar data augmentation\n",
        "datagen = ImageDataGenerator(\n",
        "    rotation_range=10,\n",
        "    width_shift_range=0.1,\n",
        "    height_shift_range=0.1,\n",
        "    shear_range=0.1,\n",
        "    zoom_range=0.1,\n",
        "    horizontal_flip=True\n",
        ")\n",
        "\n",
        "train_generator = datagen.flow(X_train, y_train, batch_size=32).repeat()\n",
        "validation_generator = datagen.flow(X_test, y_test, batch_size=32).repeat()\n",
        "\n",
        "# Calcular steps_per_epoch y validation_steps\n",
        "batch_size = 32\n",
        "steps_per_epoch = len(X_train) // batch_size\n",
        "validation_steps = len(X_test) // batch_size\n",
        "\n",
        "# Entrenar el modelo\n",
        "history = model.fit(train_generator, epochs=30, validation_data=validation_generator, steps_per_epoch=steps_per_epoch, validation_steps=validation_steps)\n",
        "\n",
        "# Guardar el modelo\n",
        "model.save('model.h5')\n"
      ]
    }
  ],
  "metadata": {
    "colab": {
      "provenance": []
    },
    "kernelspec": {
      "display_name": "Python 3",
      "name": "python3"
    },
    "language_info": {
      "codemirror_mode": {
        "name": "ipython",
        "version": 3
      },
      "file_extension": ".py",
      "mimetype": "text/x-python",
      "name": "python",
      "nbconvert_exporter": "python",
      "pygments_lexer": "ipython3",
      "version": "3.11.9"
    }
  },
  "nbformat": 4,
  "nbformat_minor": 0
}
